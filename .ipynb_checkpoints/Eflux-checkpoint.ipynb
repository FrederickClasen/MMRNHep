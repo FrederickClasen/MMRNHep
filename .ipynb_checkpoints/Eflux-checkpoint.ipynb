{
 "cells": [
  {
   "cell_type": "markdown",
   "metadata": {},
   "source": [
    "# E-flux* functions used to reconstruct context specific GSMMs"
   ]
  },
  {
   "cell_type": "markdown",
   "metadata": {},
   "source": [
    "#### To use the Eflux function you need:"
   ]
  },
  {
   "cell_type": "markdown",
   "metadata": {},
   "source": [
    "1. The model in an Excel spreadsheet with the 'RXNS' sheet specified. This can easily be created with the RAVEN toolbox in MATLAB\n",
    "\n"
   ]
  },
  {
   "cell_type": "markdown",
   "metadata": {},
   "source": [
    "2. A tab seperated TPM expression matrix with very specific column headers. Column one should be 'Gene' and the gene id's should match the genes in the model. The other columns should represent the experimental condition samples and could be more than one replicate as long as the experimental condition regular expression is in each header. For example, if you have condition1_1 and condition1_2 as column headers and 'condition1' is specified in conditions then it will use both the latter columns to calculate a mean expression"
   ]
  },
  {
   "cell_type": "markdown",
   "metadata": {},
   "source": [
    "3. A conditions list that specified all the experimental conditions that you wish to calculate flux constraints for and are headers in the TPM expression matrix"
   ]
  },
  {
   "cell_type": "markdown",
   "metadata": {},
   "source": [
    "Test - github Desktop"
   ]
  },
  {
   "cell_type": "markdown",
   "metadata": {},
   "source": [
    "### PYTHON MODULES AND LOCAL FUNCTIONS"
   ]
  },
  {
   "cell_type": "code",
   "execution_count": 18,
   "metadata": {},
   "outputs": [],
   "source": [
    "import os\n",
    "import sys\n",
    "import csv\n",
    "import pandas as pd\n",
    "import numpy as np\n",
    "from collections import defaultdict, Counter\n",
    "from statistics import stdev,mean\n",
    "from math import sqrt,log"
   ]
  },
  {
   "cell_type": "code",
   "execution_count": 19,
   "metadata": {},
   "outputs": [],
   "source": [
    "def getModelEquations(model):\n",
    "    equations = {}\n",
    "    dfRxns = pd.read_excel(model,sheet_name='RXNS')\n",
    "    for index,row in dfRxns.iterrows():\n",
    "        equations[str(row['ID'])] = str(row['EQUATION'])         \n",
    "    return equations"
   ]
  },
  {
   "cell_type": "code",
   "execution_count": 20,
   "metadata": {},
   "outputs": [],
   "source": [
    "def AorBMean(genes,meansDict):\n",
    "    m = 0\n",
    "    for g in genes:\n",
    "        try:\n",
    "            m = m + meansDict[g]\n",
    "        except KeyError:\n",
    "            pass\n",
    "    return m"
   ]
  },
  {
   "cell_type": "code",
   "execution_count": 21,
   "metadata": {},
   "outputs": [],
   "source": [
    "def setFluxConstraints(model,TPMMatrix,condition):\n",
    "    \n",
    "    # model : tissue-specific model in Excel format #\n",
    "    # TPMMatrix : TPM expression matrix\n",
    "    # condition : the specific column to search for in the header in TPMMatrix\n",
    "    \n",
    "    condDict = defaultdict(list)\n",
    "    finalBounds = defaultdict(list)\n",
    "    boundsDict = {}\n",
    "    orphanRxns = []\n",
    "    meansDict = {}\n",
    "    \n",
    "    TPMMatrix = pd.read_csv(TPMMatrix,sep='\\t')\n",
    "    \n",
    "    # get all the replicates for the conditions\n",
    "    cols = []\n",
    "    for i in TPMMatrix.columns:\n",
    "        if condition in i:\n",
    "            cols.append(i)    \n",
    "            \n",
    "    # calculate the mean for each gene\n",
    "    for index,row in TPMMatrix.iterrows():\n",
    "        for col in cols:\n",
    "            condDict[row['Gene']].append(row[col])\n",
    "        meansDict[row['Gene']] = mean(condDict[row['Gene']])\n",
    "        \n",
    "    dfRxns = pd.read_excel(model,sheet_name='RXNS')   \n",
    "    for index,row in dfRxns.iterrows():\n",
    "        try:\n",
    "            geneAssoc = row['GENE ASSOCIATION'].split(' or ')\n",
    "            if len(geneAssoc) == 1:\n",
    "                gene = geneAssoc[0]\n",
    "                try:\n",
    "                    boundsDict[row['ID']] = meansDict[gene]\n",
    "                except KeyError:\n",
    "                    boundsDict[row['ID']] = 0\n",
    "            else:\n",
    "                m = AorBMean(geneAssoc,meansDict)\n",
    "                boundsDict[row['ID']] = m\n",
    "        # these are orphan reactions\n",
    "        except AttributeError: \n",
    "            boundsDict[row['ID']] = 1000\n",
    "            orphanRxns.append(row['ID'])\n",
    "\n",
    "    for i in boundsDict:\n",
    "        if i not in orphanRxns:\n",
    "            #finalBounds[i] = boundsDict[i]\n",
    "            #if boundsDict[i] == 0.1:\n",
    "            #    finalBounds[i] = 1\n",
    "            if boundsDict[i] > 0 and boundsDict[i] <= 1:\n",
    "                finalBounds[i] = boundsDict[i]\n",
    "            if boundsDict[i] > 1:\n",
    "                #finalBounds[i] = boundsDict[i]\n",
    "                finalBounds[i] = log(boundsDict[i])\n",
    "        else:\n",
    "            finalBounds[i] = boundsDict[i]\n",
    "    return finalBounds"
   ]
  },
  {
   "cell_type": "code",
   "execution_count": 22,
   "metadata": {},
   "outputs": [],
   "source": [
    "def setReactionBoundaries(bounds,equations):\n",
    "    reactionBounds = defaultdict(dict)\n",
    "    for reaction in bounds:\n",
    "        if '<=>' in equations[reaction]:\n",
    "            reactionBounds[reaction]['LB'] = -bounds[reaction]\n",
    "            reactionBounds[reaction]['UB'] = bounds[reaction]\n",
    "        else:\n",
    "            reactionBounds[reaction]['LB'] = 0\n",
    "            reactionBounds[reaction]['UB'] = bounds[reaction]\n",
    "    return reactionBounds"
   ]
  },
  {
   "cell_type": "markdown",
   "metadata": {},
   "source": [
    "### DEFINE THE PARAMETERS"
   ]
  },
  {
   "cell_type": "code",
   "execution_count": 23,
   "metadata": {},
   "outputs": [],
   "source": [
    "# this is the specific experimental conditions that we want to extract TPM values and create \n",
    "# context-specific models for. This can be changed as you wish. \n",
    "\n",
    "conditions = ['nonDEN_Liver_WD',\n",
    "              'nonDEN_Liver_CD',\n",
    "              'DEN_Liver_CD',\n",
    "              'DEN_AdjLiver_WD',\n",
    "              'DEN_Tumour_WD']\n",
    "\n",
    "# the generic model we want to impose flux boundaries on. This model needs to be in Excel format that\n",
    "# can be constructed using the exportToExcelFormat function in the Raven2.0 toolbox\n",
    "model = str('data/models/xlsx/genericLiver.xlsx')\n",
    "\n",
    "# the TPMMatrix\n",
    "\n",
    "tpm = 'data/tpm_mat.csv'"
   ]
  },
  {
   "cell_type": "markdown",
   "metadata": {},
   "source": [
    "### GET THE FLUX BOUNDARIES AND WRITE TO FILE"
   ]
  },
  {
   "cell_type": "code",
   "execution_count": 24,
   "metadata": {
    "scrolled": true
   },
   "outputs": [
    {
     "name": "stdout",
     "output_type": "stream",
     "text": [
      "nonDEN_Liver_WD\n",
      "nonDEN_Liver_CD\n",
      "DEN_Liver_CD\n",
      "DEN_AdjLiver_WD\n",
      "DEN_Tumour_WD\n"
     ]
    }
   ],
   "source": [
    "dfRxns = pd.read_excel(model,sheet_name='RXNS',index_col='ID')\n",
    "for condition in conditions:\n",
    "    print(condition)\n",
    "    \n",
    "    # get the flux constraints\n",
    "    fluxConstraints = setFluxConstraints(model,tpm,condition)\n",
    "    boundaries = setReactionBoundaries(fluxConstraints,getModelEquations(model))\n",
    "    \n",
    "    # write this to a file that can be used to impose boundaries on the model\n",
    "    fout = open('data/Eflux/' + condition + '.csv','w')\n",
    "    fout.write('rxn\\tLB\\tUB\\n')\n",
    "    for rxn in boundaries:\n",
    "        if dfRxns.at[rxn,'SUBSYSTEM'] != 'Exchange reactions':\n",
    "            fout.write(rxn + '\\t')\n",
    "            fout.write(str(boundaries[rxn]['LB']) + '\\t')\n",
    "            fout.write(str(boundaries[rxn]['UB']) + '\\n')\n",
    "        else:\n",
    "            pass\n",
    "    fout.close()"
   ]
  }
 ],
 "metadata": {
  "kernelspec": {
   "display_name": "Python 3 (ipykernel)",
   "language": "python",
   "name": "python3"
  },
  "language_info": {
   "codemirror_mode": {
    "name": "ipython",
    "version": 3
   },
   "file_extension": ".py",
   "mimetype": "text/x-python",
   "name": "python",
   "nbconvert_exporter": "python",
   "pygments_lexer": "ipython3",
   "version": "3.9.6"
  }
 },
 "nbformat": 4,
 "nbformat_minor": 2
}
